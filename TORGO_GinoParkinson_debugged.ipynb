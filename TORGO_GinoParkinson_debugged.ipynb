{
  "nbformat": 4,
  "nbformat_minor": 0,
  "metadata": {
    "colab": {
      "provenance": []
    },
    "kernelspec": {
      "name": "python3",
      "display_name": "Python 3"
    },
    "language_info": {
      "name": "python"
    },
    "accelerator": "GPU",
    "gpuClass": "standard"
  },
  "cells": [
    {
      "cell_type": "code",
      "source": [
        "!pip install SoundFile transformers scikit-learn"
      ],
      "metadata": {
        "colab": {
          "base_uri": "https://localhost:8080/"
        },
        "id": "70-wT6MmLqMD",
        "outputId": "4efe6dbb-ef55-4174-d329-1bbcb96e179a"
      },
      "execution_count": null,
      "outputs": [
        {
          "output_type": "stream",
          "name": "stdout",
          "text": [
            "Looking in indexes: https://pypi.org/simple, https://us-python.pkg.dev/colab-wheels/public/simple/\n",
            "Requirement already satisfied: SoundFile in /usr/local/lib/python3.9/dist-packages (0.12.1)\n",
            "Requirement already satisfied: transformers in /usr/local/lib/python3.9/dist-packages (4.28.1)\n",
            "Requirement already satisfied: scikit-learn in /usr/local/lib/python3.9/dist-packages (1.2.2)\n",
            "Requirement already satisfied: cffi>=1.0 in /usr/local/lib/python3.9/dist-packages (from SoundFile) (1.15.1)\n",
            "Requirement already satisfied: huggingface-hub<1.0,>=0.11.0 in /usr/local/lib/python3.9/dist-packages (from transformers) (0.13.4)\n",
            "Requirement already satisfied: packaging>=20.0 in /usr/local/lib/python3.9/dist-packages (from transformers) (23.1)\n",
            "Requirement already satisfied: tokenizers!=0.11.3,<0.14,>=0.11.1 in /usr/local/lib/python3.9/dist-packages (from transformers) (0.13.3)\n",
            "Requirement already satisfied: tqdm>=4.27 in /usr/local/lib/python3.9/dist-packages (from transformers) (4.65.0)\n",
            "Requirement already satisfied: numpy>=1.17 in /usr/local/lib/python3.9/dist-packages (from transformers) (1.22.4)\n",
            "Requirement already satisfied: pyyaml>=5.1 in /usr/local/lib/python3.9/dist-packages (from transformers) (6.0)\n",
            "Requirement already satisfied: requests in /usr/local/lib/python3.9/dist-packages (from transformers) (2.27.1)\n",
            "Requirement already satisfied: filelock in /usr/local/lib/python3.9/dist-packages (from transformers) (3.11.0)\n",
            "Requirement already satisfied: regex!=2019.12.17 in /usr/local/lib/python3.9/dist-packages (from transformers) (2022.10.31)\n",
            "Requirement already satisfied: scipy>=1.3.2 in /usr/local/lib/python3.9/dist-packages (from scikit-learn) (1.10.1)\n",
            "Requirement already satisfied: joblib>=1.1.1 in /usr/local/lib/python3.9/dist-packages (from scikit-learn) (1.2.0)\n",
            "Requirement already satisfied: threadpoolctl>=2.0.0 in /usr/local/lib/python3.9/dist-packages (from scikit-learn) (3.1.0)\n",
            "Requirement already satisfied: pycparser in /usr/local/lib/python3.9/dist-packages (from cffi>=1.0->SoundFile) (2.21)\n",
            "Requirement already satisfied: typing-extensions>=3.7.4.3 in /usr/local/lib/python3.9/dist-packages (from huggingface-hub<1.0,>=0.11.0->transformers) (4.5.0)\n",
            "Requirement already satisfied: charset-normalizer~=2.0.0 in /usr/local/lib/python3.9/dist-packages (from requests->transformers) (2.0.12)\n",
            "Requirement already satisfied: idna<4,>=2.5 in /usr/local/lib/python3.9/dist-packages (from requests->transformers) (3.4)\n",
            "Requirement already satisfied: certifi>=2017.4.17 in /usr/local/lib/python3.9/dist-packages (from requests->transformers) (2022.12.7)\n",
            "Requirement already satisfied: urllib3<1.27,>=1.21.1 in /usr/local/lib/python3.9/dist-packages (from requests->transformers) (1.26.15)\n"
          ]
        }
      ]
    },
    {
      "cell_type": "code",
      "source": [
        "from google.colab import drive\n",
        "drive.mount('/content/drive')"
      ],
      "metadata": {
        "id": "C5uVNF7DB7jw",
        "colab": {
          "base_uri": "https://localhost:8080/"
        },
        "outputId": "17fb0333-3af4-4c1c-f859-b2a39ebcfd17"
      },
      "execution_count": null,
      "outputs": [
        {
          "output_type": "stream",
          "name": "stdout",
          "text": [
            "Drive already mounted at /content/drive; to attempt to forcibly remount, call drive.mount(\"/content/drive\", force_remount=True).\n"
          ]
        }
      ]
    },
    {
      "cell_type": "code",
      "source": [
        "import matplotlib.pyplot as plt\n",
        "import numpy as np\n",
        "\n"
      ],
      "metadata": {
        "id": "54TjuQORAQ8t"
      },
      "execution_count": null,
      "outputs": []
    },
    {
      "cell_type": "code",
      "execution_count": null,
      "metadata": {
        "id": "JTk8cRqlBm1A",
        "colab": {
          "base_uri": "https://localhost:8080/",
          "height": 663
        },
        "outputId": "367eba71-9a5e-47dc-c1bc-5c5522b04876"
      },
      "outputs": [
        {
          "output_type": "stream",
          "name": "stderr",
          "text": [
            "Some weights of the model checkpoint at facebook/wav2vec2-base-960h were not used when initializing Wav2Vec2ForSequenceClassification: ['lm_head.weight', 'lm_head.bias']\n",
            "- This IS expected if you are initializing Wav2Vec2ForSequenceClassification from the checkpoint of a model trained on another task or with another architecture (e.g. initializing a BertForSequenceClassification model from a BertForPreTraining model).\n",
            "- This IS NOT expected if you are initializing Wav2Vec2ForSequenceClassification from the checkpoint of a model that you expect to be exactly identical (initializing a BertForSequenceClassification model from a BertForSequenceClassification model).\n",
            "Some weights of Wav2Vec2ForSequenceClassification were not initialized from the model checkpoint at facebook/wav2vec2-base-960h and are newly initialized: ['projector.weight', 'classifier.weight', 'classifier.bias', 'wav2vec2.masked_spec_embed', 'projector.bias']\n",
            "You should probably TRAIN this model on a down-stream task to be able to use it for predictions and inference.\n"
          ]
        },
        {
          "output_type": "stream",
          "name": "stdout",
          "text": [
            "Epoch 1, Validation Loss: 0.0975302504375577, Validation Accuracy: 0.98\n",
            "Epoch 2, Validation Loss: 0.0975302504375577, Validation Accuracy: 0.98\n",
            "Epoch 3, Validation Loss: 0.0975302504375577, Validation Accuracy: 0.98\n",
            "Epoch 4, Validation Loss: 0.0975302504375577, Validation Accuracy: 0.98\n",
            "Epoch 5, Validation Loss: 0.0975302504375577, Validation Accuracy: 0.98\n",
            "Predicting...\n",
            "Predicted label: 1\n"
          ]
        },
        {
          "output_type": "display_data",
          "data": {
            "text/plain": [
              "<Figure size 640x480 with 1 Axes>"
            ],
            "image/png": "[encoded data removed]"
          },
          "metadata": {}
        }
      ],
      "source": [
        "import os\n",
        "import soundfile as sf\n",
        "import torch\n",
        "import torch.nn as nn\n",
        "import torch.nn.functional as F\n",
        "from torch.utils.data import Dataset, DataLoader\n",
        "from transformers import Wav2Vec2ForCTC, Wav2Vec2Processor, Wav2Vec2ForSequenceClassification\n",
        "from sklearn.model_selection import train_test_split\n",
        "# Custom Dataset class\n",
        "class DysarthriaDataset(Dataset):\n",
        "    def __init__(self, data, labels, max_length=100000):\n",
        "        self.data = data\n",
        "        self.labels = labels\n",
        "        self.max_length = max_length\n",
        "        self.processor = Wav2Vec2Processor.from_pretrained(\"facebook/wav2vec2-base-960h\")\n",
        "\n",
        "    def __len__(self):\n",
        "        return len(self.data)\n",
        "\n",
        "    def __getitem__(self, idx):\n",
        "        wav_data, _ = sf.read(self.data[idx])\n",
        "        inputs = self.processor(wav_data, sampling_rate=16000, return_tensors=\"pt\", padding=True)\n",
        "        input_values = inputs.input_values.squeeze(0)  # Squeeze the batch dimension\n",
        "        if self.max_length - input_values.shape[-1] > 0:\n",
        "            input_values = torch.cat([input_values, torch.zeros((self.max_length - input_values.shape[-1],))], dim=-1)\n",
        "        else:\n",
        "            input_values = input_values[:self.max_length]\n",
        "\n",
        "        # Remove unsqueezing the channel dimension\n",
        "        # input_values = input_values.unsqueeze(0)\n",
        "\n",
        "        # label = torch.zeros(32,dtype=torch.long)\n",
        "        # label[self.labels[idx]] = 1\n",
        "\n",
        "        ### CHANGES: simply return the label as a single integer\n",
        "        return {\"input_values\": input_values}, self.labels[idx]\n",
        "        ###\n",
        "\n",
        "\n",
        "def train(model, dataloader, criterion, optimizer, device, ax, loss_vals, x_vals, fig,train_loader,epochs):\n",
        "    model.train()\n",
        "    running_loss = 0\n",
        "\n",
        "    for i, (inputs, labels) in enumerate(dataloader):\n",
        "        inputs = {key: value.squeeze().to(device) for key, value in inputs.items()}\n",
        "        labels = labels.to(device)\n",
        "\n",
        "        optimizer.zero_grad()\n",
        "        logits = model(**inputs).logits\n",
        "        loss = criterion(logits, labels)\n",
        "        loss.backward()\n",
        "        optimizer.step()\n",
        "\n",
        "        # append loss value to list\n",
        "        loss_vals.append(loss.item())\n",
        "        running_loss += loss.item()\n",
        "\n",
        "        if (i+1) % 10 == 0:\n",
        "            # update plot\n",
        "            ax.clear()\n",
        "            ax.set_xlim([0, len(train_loader)*epochs])\n",
        "            ax.set_xlabel('Training Iterations')\n",
        "            ax.set_ylim([0, max(loss_vals) + 2])\n",
        "            ax.set_ylabel('Loss')\n",
        "            ax.plot(x_vals[:len(loss_vals)], loss_vals)\n",
        "            fig.canvas.draw()\n",
        "            plt.pause(0.001)\n",
        "\n",
        "    avg_loss = running_loss / len(dataloader)\n",
        "    print(avg_loss)\n",
        "    print(\"\\n\")\n",
        "    return avg_loss\n",
        "\n",
        "\n",
        "\n",
        "def main():\n",
        "    dysarthria_path = \"/content/drive/MyDrive/torgo_data/dysarthria_male/training\"\n",
        "    non_dysarthria_path = \"/content/drive/MyDrive/torgo_data/non_dysarthria_male/training\"\n",
        "\n",
        "    dysarthria_files = [os.path.join(dysarthria_path, f) for f in os.listdir(dysarthria_path) if f.endswith('.wav')]\n",
        "    non_dysarthria_files = [os.path.join(non_dysarthria_path, f) for f in os.listdir(non_dysarthria_path) if f.endswith('.wav')]\n",
        "\n",
        "    data = dysarthria_files + non_dysarthria_files\n",
        "    labels = [1] * len(dysarthria_files) + [0] * len(non_dysarthria_files)\n",
        "\n",
        "    train_data, test_data, train_labels, test_labels = train_test_split(data, labels, test_size=0.2)\n",
        "\n",
        "    train_dataset = DysarthriaDataset(train_data, train_labels)\n",
        "    test_dataset = DysarthriaDataset(test_data, test_labels)\n",
        "\n",
        "    train_loader = DataLoader(train_dataset, batch_size=8, drop_last=True)\n",
        "    test_loader = DataLoader(test_dataset, batch_size=8, drop_last=True)\n",
        "    validation_loader = DataLoader(test_dataset, batch_size=8, drop_last=True)\n",
        "\n",
        "    device = torch.device(\"cuda\" if torch.cuda.is_available() else \"cpu\")\n",
        "    # model = Wav2Vec2ForCTC.from_pretrained(\"facebook/wav2vec2-base-960h\").to(device)\n",
        "    # model.classifier = nn.Linear(model.config.hidden_size, 2).to(device)\n",
        "\n",
        "    ### NEW CODES\n",
        "    # It seems like the classifier layer is excluded from the model's forward method (i.e., model(**inputs)).\n",
        "    # That's why the number of labels in the output was 32 instead of 2 even when you had already changed the classifier.\n",
        "    # Instead, huggingface offers the option for loading the Wav2Vec model with an adjustable classifier head on top (by setting num_labels).\n",
        "\n",
        "    model = Wav2Vec2ForSequenceClassification.from_pretrained(\"facebook/wav2vec2-base-960h\", num_labels=2).to(device)\n",
        "    ###\n",
        "    model_path = \"/content/dysarthria_classifier.pth\"\n",
        "    if os.path.exists(model_path):\n",
        "        model.load_state_dict(torch.load(model_path))\n",
        "\n",
        "    criterion = nn.CrossEntropyLoss()\n",
        "    optimizer = torch.optim.Adam(model.parameters(), lr=3e-5)\n",
        "    dysarthria_validation_path = \"/content/drive/MyDrive/torgo_data/dysarthria_male/validation\"\n",
        "    non_dysarthria_validation_path = \"/content/drive/MyDrive/torgo_data/non_dysarthria_male/validation\"\n",
        "\n",
        "    dysarthria_validation_files = [os.path.join(dysarthria_validation_path, f) for f in os.listdir(dysarthria_validation_path) if f.endswith('.wav')]\n",
        "    non_dysarthria_validation_files = [os.path.join(non_dysarthria_validation_path, f) for f in os.listdir(non_dysarthria_validation_path) if f.endswith('.wav')]\n",
        "\n",
        "    validation_data = dysarthria_validation_files + non_dysarthria_validation_files\n",
        "    validation_labels = [1] * len(dysarthria_validation_files) + [0] * len(non_dysarthria_validation_files)\n",
        "\n",
        "    epochs = 5\n",
        "    fig, ax = plt.subplots()\n",
        "    x_vals = np.arange(len(train_loader)*epochs)\n",
        "    loss_vals = []\n",
        "    nume = 1\n",
        "    for epoch in range(epochs):\n",
        "        ##train_loss = train(model, train_loader, criterion, optimizer, device, ax, loss_vals, x_vals, fig, train_loader, nume)\n",
        "        ##print(f\"Epoch {epoch + 1}, Train Loss: {train_loss}\")\n",
        "\n",
        "        val_loss, val_accuracy = evaluate(model, validation_loader, criterion, device)\n",
        "        print(f\"Epoch {epoch + 1}, Validation Loss: {val_loss}, Validation Accuracy: {val_accuracy:.2f}\")\n",
        "        nume = nume+1\n",
        "\n",
        "    torch.save(model.state_dict(), \"dysarthria_classifier.pth\")\n",
        "    print(\"Predicting...\")\n",
        "    # Test on a specific audio file\n",
        "    audio_file = \"/content/drive/MyDrive/torgo_data/dysarthria_male/validation/M01_Session1_0005.wav\"\n",
        "    predicted_label = predict(model, audio_file, train_dataset.processor, device)\n",
        "    print(f\"Predicted label: {predicted_label}\")\n",
        "\n",
        "def predict(model, file_path, processor, device, max_length=100000): ### CHANGES: added max_length as an argument.\n",
        "    model.eval()\n",
        "    with torch.no_grad():\n",
        "        wav_data, _ = sf.read(file_path)\n",
        "        inputs = processor(wav_data, sampling_rate=16000, return_tensors=\"pt\", padding=True)\n",
        "        # inputs = {key: value.squeeze().to(device) for key, value in inputs.items()}\n",
        "\n",
        "        ### NEW CODES HERE\n",
        "        input_values = inputs.input_values.squeeze(0)  # Squeeze the batch dimension\n",
        "        if max_length - input_values.shape[-1] > 0:\n",
        "            input_values = torch.cat([input_values, torch.zeros((max_length - input_values.shape[-1],))], dim=-1)\n",
        "        else:\n",
        "            input_values = input_values[:max_length]\n",
        "        input_values = input_values.unsqueeze(0).to(device)\n",
        "        inputs = {\"input_values\": input_values}\n",
        "        ###\n",
        "\n",
        "        logits = model(**inputs).logits\n",
        "        # _, predicted = torch.max(logits, dim=0)\n",
        "\n",
        "        ### NEW CODES HERE\n",
        "        # Remove the batch dimension.\n",
        "        logits = logits.squeeze()\n",
        "        predicted_class_id = torch.argmax(logits, dim=-1).item()\n",
        "        ###\n",
        "\n",
        "    # return predicted.item()\n",
        "    return predicted_class_id\n",
        "def evaluate(model, dataloader, criterion, device):\n",
        "    model.eval()\n",
        "    running_loss = 0\n",
        "    correct_predictions = 0\n",
        "    total_predictions = 0\n",
        "\n",
        "    with torch.no_grad():\n",
        "        for inputs, labels in dataloader:\n",
        "            inputs = {key: value.squeeze().to(device) for key, value in inputs.items()}\n",
        "            labels = labels.to(device)\n",
        "\n",
        "            logits = model(**inputs).logits\n",
        "            loss = criterion(logits, labels)\n",
        "            running_loss += loss.item()\n",
        "\n",
        "            _, predicted = torch.max(logits, 1)\n",
        "            correct_predictions += (predicted == labels).sum().item()\n",
        "            total_predictions += labels.size(0)\n",
        "\n",
        "    avg_loss = running_loss / len(dataloader)\n",
        "    accuracy = correct_predictions / total_predictions\n",
        "    return avg_loss, accuracy\n",
        "\n",
        "if __name__ == \"__main__\":\n",
        "    main()\n"
      ]
    },
    {
      "cell_type": "markdown",
      "source": [
        "## DEBUGGING"
      ],
      "metadata": {
        "id": "Boj-rg5x8-IH"
      }
    },
    {
      "cell_type": "code",
      "source": [
        "dysarthria_path = \"/content/drive/MyDrive/torgo_data/dysarthria_male/training\"\n",
        "non_dysarthria_path = \"/content/drive/MyDrive/torgo_data/non_dysarthria_male/training\"\n",
        "\n",
        "dysarthria_files = [os.path.join(dysarthria_path, f) for f in os.listdir(dysarthria_path) if f.endswith('.wav')]\n",
        "non_dysarthria_files = [os.path.join(non_dysarthria_path, f) for f in os.listdir(non_dysarthria_path) if f.endswith('.wav')]\n",
        "\n",
        "data = dysarthria_files + non_dysarthria_files\n",
        "labels = [1] * len(dysarthria_files) + [0] * len(non_dysarthria_files)\n",
        "\n",
        "train_data, test_data, train_labels, test_labels = train_test_split(data, labels, test_size=0.2)\n",
        "\n",
        "train_dataset = DysarthriaDataset(train_data, train_labels)\n",
        "test_dataset = DysarthriaDataset(test_data, test_labels)\n",
        "\n",
        "train_loader = DataLoader(train_dataset, batch_size=4, drop_last=True)\n",
        "test_loader = DataLoader(test_dataset, batch_size=4, drop_last=True)\n",
        "\n",
        "\n",
        "device = torch.device(\"cuda\" if torch.cuda.is_available() else \"cpu\")\n",
        "# model = Wav2Vec2ForCTC.from_pretrained(\"facebook/wav2vec2-base-960h\").to(device)\n",
        "# model.classifier = nn.Linear(model.config.hidden_size, 2).to(device)\n",
        "\n",
        "model = Wav2Vec2ForSequenceClassification.from_pretrained(\"facebook/wav2vec2-base-960h\", num_labels=2).to(device)"
      ],
      "metadata": {
        "colab": {
          "base_uri": "https://localhost:8080/"
        },
        "id": "8k4w9pEOdd_y",
        "outputId": "d7a57179-053b-41f8-a170-be2207222100"
      },
      "execution_count": null,
      "outputs": [
        {
          "output_type": "stream",
          "name": "stderr",
          "text": [
            "Some weights of the model checkpoint at facebook/wav2vec2-base-960h were not used when initializing Wav2Vec2ForSequenceClassification: ['lm_head.bias', 'lm_head.weight']\n",
            "- This IS expected if you are initializing Wav2Vec2ForSequenceClassification from the checkpoint of a model trained on another task or with another architecture (e.g. initializing a BertForSequenceClassification model from a BertForPreTraining model).\n",
            "- This IS NOT expected if you are initializing Wav2Vec2ForSequenceClassification from the checkpoint of a model that you expect to be exactly identical (initializing a BertForSequenceClassification model from a BertForSequenceClassification model).\n",
            "Some weights of Wav2Vec2ForSequenceClassification were not initialized from the model checkpoint at facebook/wav2vec2-base-960h and are newly initialized: ['classifier.bias', 'projector.bias', 'wav2vec2.masked_spec_embed', 'classifier.weight', 'projector.weight']\n",
            "You should probably TRAIN this model on a down-stream task to be able to use it for predictions and inference.\n"
          ]
        }
      ]
    },
    {
      "cell_type": "code",
      "source": [
        "max_length = 100_000\n",
        "processor = train_dataset.processor\n",
        "\n",
        "model.eval()\n",
        "audio_file = \"/content/drive/MyDrive/torgo_data/dysarthria_male/validation/M01_Session1_0005.wav\"\n",
        "# predicted_label = predict(model, audio_file, train_dataset.processor, device)\n",
        "# print(f\"Predicted label: {predicted_label}\")\n",
        "\n",
        "wav_data, _ = sf.read(audio_file)\n",
        "inputs = processor(wav_data, sampling_rate=16000, return_tensors=\"pt\", padding=True)\n",
        "input_values = inputs.input_values.squeeze(0)  # Squeeze the batch dimension\n",
        "if max_length - input_values.shape[-1] > 0:\n",
        "    input_values = torch.cat([input_values, torch.zeros((max_length - input_values.shape[-1],))], dim=-1)\n",
        "else:\n",
        "    input_values = input_values[:max_length]\n",
        "\n",
        "input_values = input_values.unsqueeze(0).to(device)\n",
        "input_values.shape"
      ],
      "metadata": {
        "colab": {
          "base_uri": "https://localhost:8080/"
        },
        "id": "pz-aB2KVtN1i",
        "outputId": "f8c43aa2-61e5-4e4d-a6a6-80b7b05cb73a"
      },
      "execution_count": null,
      "outputs": [
        {
          "output_type": "execute_result",
          "data": {
            "text/plain": [
              "torch.Size([1, 100000])"
            ]
          },
          "metadata": {},
          "execution_count": 6
        }
      ]
    },
    {
      "cell_type": "code",
      "source": [
        "with torch.no_grad():\n",
        "  outputs = model(**{\"input_values\": input_values})\n",
        "  logits = outputs.logits"
      ],
      "metadata": {
        "id": "K4-ApP-1tfoa"
      },
      "execution_count": null,
      "outputs": []
    },
    {
      "cell_type": "code",
      "source": [
        "input_values.shape, logits.shape"
      ],
      "metadata": {
        "colab": {
          "base_uri": "https://localhost:8080/"
        },
        "id": "d7za_WmMuanf",
        "outputId": "99924045-c2c0-4b97-b6d2-0ae1ef9d905e"
      },
      "execution_count": null,
      "outputs": [
        {
          "output_type": "execute_result",
          "data": {
            "text/plain": [
              "(torch.Size([1, 100000]), torch.Size([1, 2]))"
            ]
          },
          "metadata": {},
          "execution_count": 8
        }
      ]
    },
    {
      "cell_type": "code",
      "source": [
        "import torch.nn.functional as F\n",
        "# Remove the batch dimension.\n",
        "logits = logits.squeeze()\n",
        "predicted_class_id = torch.argmax(logits, dim=-1)\n",
        "predicted_class_id"
      ],
      "metadata": {
        "colab": {
          "base_uri": "https://localhost:8080/"
        },
        "id": "CmOtzmr4v6z8",
        "outputId": "af92bb49-994b-4ac4-c800-1a4dec6b0ae6"
      },
      "execution_count": null,
      "outputs": [
        {
          "output_type": "execute_result",
          "data": {
            "text/plain": [
              "tensor(0, device='cuda:0')"
            ]
          },
          "metadata": {},
          "execution_count": 9
        }
      ]
    }
  ]
}